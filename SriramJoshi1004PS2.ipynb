{
 "cells": [
  {
   "cell_type": "markdown",
   "id": "d29e7818",
   "metadata": {},
   "source": [
    "# Question 1:\n",
    "Consider the following Python module:\n",
    "a = 0\n",
    "def b():\n",
    "global a\n",
    "a = c(a)\n",
    "def c(a):\n",
    "return a + 2\n",
    "After importing the module into the interpreter, you execute:\n",
    " b()\n",
    " b()\n",
    " b()\n",
    " a?\n",
    "What value is displayed when the last expression (a) is evaluated? Explain youranswer by indicating what happens in every executed statement."
   ]
  },
  {
   "cell_type": "code",
   "execution_count": 6,
   "id": "d9d9413d",
   "metadata": {},
   "outputs": [],
   "source": [
    "a=0\n",
    "def c(a):\n",
    "    return a+2\n",
    "def b():\n",
    "    global a \n",
    "    a = c(a)\n",
    "    "
   ]
  },
  {
   "cell_type": "code",
   "execution_count": 7,
   "id": "2672edb8",
   "metadata": {},
   "outputs": [
    {
     "data": {
      "text/plain": [
       "6"
      ]
     },
     "execution_count": 7,
     "metadata": {},
     "output_type": "execute_result"
    }
   ],
   "source": [
    "b()\n",
    "b()\n",
    "b()\n",
    "a"
   ]
  },
  {
   "cell_type": "markdown",
   "id": "34e05fdc",
   "metadata": {},
   "source": [
    "In the given module is 'a' global varable. Function 'c' takes variable 'a' and increments its value by 2 ,Function 'b' access global variable 'a' and pass it to function c then its value gets incrementd by 2.\n",
    "b():When we call the function first time the global variable becomes 2 b(): when we call the function second time the global variable becomes 2+2=4, b(): when we call the function third time the global variable becomes 4+2=6, a:Finally, We are printing the value of 'a' so it will print final value of 'a' as 6"
   ]
  },
  {
   "cell_type": "markdown",
   "id": "27958afd",
   "metadata": {},
   "source": [
    "# Question 2 \n",
    "Function fileLength(), given to you, takes the name of a file as input and returnsthe length of the file:\n",
    "ileLength('midterm.py')\n",
    "=284.\n",
    "fileLength('idterm.py')\n",
    "Traceback (most recent call last):\n",
    "File \"<pyshell#34>\", line 1, in <module>\n",
    "    fileLength('idterm.py')\n",
    "    File \"/Users/me/midterm.py\", line 3, in fileLength\n",
    "    infile = open(filename)\n",
    "    FileNotFoundError: [Errno 2] No such file or directory:\n",
    "    'idterm.py\n",
    " As shown above, if the file cannot be found by the interpreter or if it cannot be readas a text file, an exception will be raised. Modify function fileLength() so that afriendly message is printed instead:\n",
    "    fileLength('midterm.py')\n",
    "    358\n",
    "    fileLength('idterm.py')\n",
    "    File idterm.py not found."
   ]
  },
  {
   "cell_type": "code",
   "execution_count": 8,
   "id": "f4a5fd6b",
   "metadata": {},
   "outputs": [],
   "source": [
    "def file_length(file_path):\n",
    "    try:\n",
    "        with open(file_path,'r')as file:\n",
    "            content = file.read()\n",
    "            num_characters = len(content)\n",
    "            print(\"The number of characters in the file:\",num_characters)\n",
    "    except FileNotFoundError:\n",
    "        print(\"File not found at the location: \",file_path)\n",
    "    except Exception as e:\n",
    "        print(\"An error occured:\",str(e))\n",
    "        "
   ]
  },
  {
   "cell_type": "code",
   "execution_count": 11,
   "id": "8e6305a5",
   "metadata": {},
   "outputs": [
    {
     "name": "stdout",
     "output_type": "stream",
     "text": [
      "The number of characters in the file: 101\n",
      "File not found at the location:  D:\\BDAT\\invalidfile.txt\n"
     ]
    }
   ],
   "source": [
    "file_path = \"D:\\BDAT\\SriramJoshi_Blood.txt\"\n",
    "file_length(file_path)\n",
    "\n",
    "file_path = \"D:\\BDAT\\invalidfile.txt\"\n",
    "file_length(file_path)\n",
    "\n",
    "\n",
    "    \n",
    "    "
   ]
  },
  {
   "cell_type": "markdown",
   "id": "580204b5",
   "metadata": {},
   "source": [
    "# Question 3\n",
    "Write a class named Marsupial that can be used as shown below:\n",
    "m = Marsupial()\n",
    "m.put_in_pouch('doll')\n",
    "m.put_in_pouch('firetruck')\n",
    "m.put_in_pouch('kitten')\n",
    "m.pouch_contents()\n",
    "['doll', 'firetruck', 'kitten']\n",
    "Now write a class named Kangaroo as a subclass of Marsupial that inherits all theattributes of Marsupial and also:\n",
    "a. extends the Marsupial __init__ constructor to take, as input, thecoordinates x and y of the Kangaroo object,\n",
    "b. supports method jump that takes number values dx and dy as input andmoves the kangaroo by dx units along the x-axis and by dy units along the y-axis, and\n",
    "c. overloads the __str__ operator so it behaves as shown below:\n",
    "k = Kangaroo(0,0)\n",
    "print(k)\n",
    "I am a Kangaroo located at coordinates (0,0)\n",
    "k.put_in_pouch('doll')\n",
    "k.put_in_pouch('firetruck')\n",
    "k.put_in_pouch('kitten')\n",
    "k.pouch_contents()['doll', 'firetruck', 'kitten']\n",
    "k.jump(1,0)\n",
    "k.jump(1,0)\n",
    "k.jump(1,0)\n",
    "print(k)I am a Kangaroo located at coordinates (3,0)"
   ]
  },
  {
   "cell_type": "code",
   "execution_count": 27,
   "id": "27ac3211",
   "metadata": {},
   "outputs": [
    {
     "name": "stdout",
     "output_type": "stream",
     "text": [
      "I am a Kangaroo located at coordinates (0,0)\n",
      "['doll', 'firetruck', 'kitten']\n",
      "I am a Kangaroo located at coordinates (3,0)\n"
     ]
    }
   ],
   "source": [
    "class Marsupial:\n",
    "    def __init__(self):\n",
    "        self.pouch = []\n",
    "\n",
    "    def put_in_pouch(self, item):\n",
    "        self.pouch.append(item)\n",
    "\n",
    "    def pouch_contents(self):\n",
    "        return self.pouch\n",
    "\n",
    "\n",
    "class Kangaroo(Marsupial):\n",
    "    def __init__(self, x, y):\n",
    "        super().__init__()\n",
    "        self.x = x\n",
    "        self.y = y\n",
    "\n",
    "    def jump(self, dx, dy):\n",
    "        self.x += dx\n",
    "        self.y += dy\n",
    "\n",
    "    def __str__(self):\n",
    "        return f\"I am a Kangaroo located at coordinates ({self.x},{self.y})\"\n",
    "\n",
    "\n",
    "# Example Usage\n",
    "k = Kangaroo(0, 0)\n",
    "print(k)\n",
    "\n",
    "k.put_in_pouch('doll')\n",
    "k.put_in_pouch('firetruck')\n",
    "k.put_in_pouch('kitten')\n",
    "print(k.pouch_contents())\n",
    "\n",
    "k.jump(1, 0)\n",
    "k.jump(1, 0)\n",
    "k.jump(1, 0)\n",
    "\n",
    "print(k)\n"
   ]
  },
  {
   "cell_type": "markdown",
   "id": "ad661ac2",
   "metadata": {},
   "source": [
    "# Question 4:\n",
    "Write function collatz() that takes a positive integer x as input and prints theCollatz sequence starting at x. A Collatz sequence is obtained by repeatedly applyingthis rule to the previous number x in the sequence:\n",
    "x = { 𝑥/2 𝑖𝑓 𝑥 𝑖𝑠 𝑒𝑣𝑒𝑛3𝑥 + 1 𝑖𝑓 𝑥 𝑖𝑠 𝑜𝑑𝑑. \n",
    "Your function should stop when the sequence gets to number 1. Yourimplementation must be recursive, without any loops.\n",
    "collatz(1)\n",
    "1\n",
    "collatz(10)\n",
    "10\n",
    "5\n",
    "16\n",
    "8\n",
    "4\n",
    "2\n",
    "1"
   ]
  },
  {
   "cell_type": "code",
   "execution_count": 30,
   "id": "20998d50",
   "metadata": {},
   "outputs": [],
   "source": [
    "def collatz(x):\n",
    "    print(x)\n",
    "    if x == 1:\n",
    "        return\n",
    "    elif x % 2 == 0:\n",
    "        collatz(x // 2)\n",
    "    else:\n",
    "        collatz(3 * x + 1)\n",
    "\n"
   ]
  },
  {
   "cell_type": "code",
   "execution_count": 31,
   "id": "a5c925f7",
   "metadata": {},
   "outputs": [
    {
     "name": "stdout",
     "output_type": "stream",
     "text": [
      "10\n",
      "5\n",
      "16\n",
      "8\n",
      "4\n",
      "2\n",
      "1\n"
     ]
    }
   ],
   "source": [
    "collatz(10)"
   ]
  },
  {
   "cell_type": "markdown",
   "id": "ad68bc7b",
   "metadata": {},
   "source": [
    "# Question 5\n",
    "Write a recursive method binary() that takes a non-negativeinteger n and prints the binary representation of integer n.\n",
    "binary(0)\n",
    "0\n",
    "binary(1)\n",
    "1\n",
    "binary(3)\n",
    "11\n",
    "binary(9)\n",
    "1001"
   ]
  },
  {
   "cell_type": "code",
   "execution_count": 39,
   "id": "e782ab11",
   "metadata": {},
   "outputs": [
    {
     "name": "stdout",
     "output_type": "stream",
     "text": [
      "Binary representation of number 0:  0\n",
      "Binary representation of number 1:  1\n",
      "Binary representation of number 3:  11\n",
      "Binary representation of number 9:  1001\n",
      "Binary representation of number 100: 1100100\n"
     ]
    }
   ],
   "source": [
    "def binary(n):\n",
    "    if n == 0:\n",
    "        return '0'\n",
    "    elif n == 1:\n",
    "        return '1'\n",
    "    else:\n",
    "        return binary(n // 2) + str(n % 2)\n",
    "print(\"Binary representation of number 0: \",binary(0))\n",
    "print(\"Binary representation of number 1: \",binary(1))\n",
    "print(\"Binary representation of number 3: \",binary(3))\n",
    "print(\"Binary representation of number 9: \",binary(9))\n",
    "print(\"Binary representation of number 100:\",binary(100))"
   ]
  },
  {
   "cell_type": "markdown",
   "id": "130ba7e6",
   "metadata": {},
   "source": [
    "# Question 6\n",
    "Implement a class named HeadingParser that can be used to parse an HTMLdocument, and retrieve and print all the headings in the document. You shouldimplement your class as a subclass of HTMLParser, defined in Standard Librarymodule html.parser. When fed a string containing HTML code, your class shouldprint the headings, one per line and in the order in which they appear in thedocument. Each heading should be indented as follows: an h1 heading should have indentation 0, and h2 heading should have indentation 1, etc. Test yourimplementation using w3c.html."
   ]
  },
  {
   "cell_type": "code",
   "execution_count": 47,
   "id": "df9afe53",
   "metadata": {},
   "outputs": [
    {
     "name": "stdout",
     "output_type": "stream",
     "text": [
      "W3C Mission\n",
      "  Principles\n"
     ]
    }
   ],
   "source": [
    "from html.parser import HTMLParser\n",
    "\n",
    "class HeadingParser(HTMLParser):\n",
    "    def __init__(self):\n",
    "        super().__init__()\n",
    "        self.headings = []\n",
    "        self.current_heading = None\n",
    "        self.indentation = 0\n",
    "\n",
    "    def handle_starttag(self, tag, attrs):\n",
    "        if tag.startswith('h') and tag[1:].isdigit():\n",
    "            self.current_heading = int(tag[1:])\n",
    "            self.indentation = self.current_heading - 1\n",
    "\n",
    "    def handle_data(self, data):\n",
    "        if self.current_heading is not None:\n",
    "            self.headings.append((self.indentation, data.strip()))\n",
    "\n",
    "    def handle_endtag(self, tag):\n",
    "        if tag.startswith('h') and tag[1:].isdigit():\n",
    "            self.current_heading = None\n",
    "\n",
    "    def print_headings(self):\n",
    "        for indentation, heading in self.headings:\n",
    "            print('  ' * indentation + heading)\n",
    "\n",
    "with open('C:\\\\Users\\\\HP\\\\Downloads\\\\w3c.txt', 'r') as file:\n",
    "    content = file.read()\n",
    "\n",
    "hp = HeadingParser()\n",
    "hp.feed(content)\n",
    "hp.print_headings()\n"
   ]
  },
  {
   "cell_type": "markdown",
   "id": "3dfbb0b4",
   "metadata": {},
   "source": [
    "# Question 7 \n",
    "Implement recursive function webdir() that takes as input: a URL (as a string) andnon-negative integers depth and indent. Your function should visit every webpage reachable from the starting URL web page in depth clicks or less, and printeach web page's URL. As shown below, indentation, specified by indent, shouldbe used to indicate the depth of a URL.\n",
    "webdir('http://reed.cs.depaul.edu/lperkovic/csc242/test1.html'  (2,0) http://reed.cs.depaul.edu/lperkovic/csc242/test1.html http://reed.cs.depaul.edu/lperkovic/csc242/test2.html\n",
    "http://reed.cs.depaul.edu/lperkovic/csc242/test4.html\n",
    "http://reed.cs.depaul.edu/lperkovic/csc242/test3.html\n",
    "http://reed.cs.depaul.edu/lperkovic/csc242/test4.html\n"
   ]
  },
  {
   "cell_type": "code",
   "execution_count": 49,
   "id": "ed132222",
   "metadata": {},
   "outputs": [],
   "source": [
    "import requests\n",
    "from bs4 import BeautifulSoup\n",
    "\n",
    "def webdir(url, depth, indent=0):\n",
    "    if depth < 0:\n",
    "        return\n",
    "    \n",
    "    try:\n",
    "        response = requests.get(url)\n",
    "        soup = BeautifulSoup(response.text, 'html.parser')\n",
    "        \n",
    "        print(' ' * indent + url)\n",
    "        \n",
    "        if depth > 0:\n",
    "            for link in soup.find_all('a', href=True):\n",
    "                new_url = link['href']\n",
    "                if not new_url.startswith('http'):\n",
    "                    new_url = url + new_url\n",
    "                webdir(new_url, depth - 1, indent + 1)\n",
    "    except Exception as e:\n",
    "        print(' ' * indent + f\"Error: {e} ({url})\")\n"
   ]
  },
  {
   "cell_type": "code",
   "execution_count": 50,
   "id": "0bb10799",
   "metadata": {},
   "outputs": [
    {
     "name": "stdout",
     "output_type": "stream",
     "text": [
      "http://reed.cs.depaul.edu/lperkovic/csc242/test1.html\n"
     ]
    }
   ],
   "source": [
    "webdir('http://reed.cs.depaul.edu/lperkovic/csc242/test1.html', 2, 0)"
   ]
  },
  {
   "cell_type": "markdown",
   "id": "5651ee5e",
   "metadata": {},
   "source": [
    "# Question 8\n",
    "Write SQL queries on the below database table that return:\n",
    "a) All the temperature data.\n",
    "b) All the cities, but without repetition.\n",
    "c) All the records for India.\n",
    "d) All the Fall records.\n",
    "e) The city, country, and season for which the average rainfall is between 200and 400 millimeters.\n",
    "f) The city and country for which the average Fall temperature is above 20degrees, in increasing temperature order.\n",
    "g) The total annual rainfall for Cairo.\n",
    "h) The total rainfall for each season\n"
   ]
  },
  {
   "cell_type": "code",
   "execution_count": null,
   "id": "95d7c089",
   "metadata": {},
   "outputs": [],
   "source": [
    "# a) All the temperature data.\n",
    "SELECT Temperature FROM table\n",
    "\n",
    "# b) All the cities, but without repetition.\n",
    "SELECT DITINCT City FROM table\n",
    "\n",
    "# c) All the records for India.\n",
    "SELECT * FROM table WHERE Country = 'India'\n",
    "\n",
    "# d) All the Fall records.\n",
    "SELECT * DROM table WHERE Season= 'Fall'\n",
    "\n",
    "# e) The city, country, and season for which the average rainfall is between 200and 400 millimeters.\n",
    "SELECT city, country, season FROM table GROUP BY city, country, season HAVING AVG(rainfall) BETWEEN 200 AND 400\n",
    "\n",
    "# f) The city and country for which the average Fall temperature is above 20degrees, in increasing temperature order.\n",
    "SELECT city, country FROM table WHERE season='Fall' GROUP BY city, country HAVING AVG(Temperature)>20 ORDER BY\n",
    "AVG(Temperature)DESC\n",
    "\n",
    "# g) The total annual rainfall for Cairo.\n",
    "SELECT SUM(Rainfall) as Total_Rainfall FROM table WHERE city='Cairo'\n"
   ]
  },
  {
   "cell_type": "markdown",
   "id": "87b7dd11",
   "metadata": {},
   "source": [
    "# Question 9\n",
    "Suppose list words is defined as follows: words = ['The', 'quick', 'brown', 'fox', 'jumps', 'over','the', 'lazy', 'dog']\n",
    "Write list comprehension expressions that use list words and generate the followinglists:\n",
    "a) ['THE', 'QUICK', 'BROWN', 'FOX', 'JUMPS', 'OVER', 'THE','LAZY', 'DOG']\n",
    "b) ['the', 'quick', 'brown', 'fox', 'jumps', 'over', 'the','lazy', 'dog']\n",
    "c) [3, 5, 5, 3, 5, 4, 3, 4, 3] (the list of lengths of words in listwords).\n",
    "d) [['THE', 'the', 3], ['QUICK', 'quick', 5], ['BROWN','brown', 5], ['FOX', 'fox', 3], ['JUMPS', 'jumps', 5],['OVER', 'over', 4], ['THE', 'the', 3], ['LAZY', 'lazy', ['DOG', 'dog', 3]] (the list containing a list for every word of listwords, where each list contains the word in uppercase and lowercase and thelength of the word.)\n",
    "e) ['The', 'quick', 'brown', 'fox', 'jumps', 'over', 'the','lazy', 'dog'] (the list of words in list words containing 4 or morecharacters.)"
   ]
  },
  {
   "cell_type": "code",
   "execution_count": 51,
   "id": "5ebd6dd3",
   "metadata": {},
   "outputs": [
    {
     "name": "stdout",
     "output_type": "stream",
     "text": [
      "['THE', 'QUICK', 'BROWN', 'FOX', 'JUMPS', 'OVER', 'THE', 'LAZY', 'DOG']\n"
     ]
    }
   ],
   "source": [
    "# a) ['THE', 'QUICK', 'BROWN', 'FOX', 'JUMPS', 'OVER', 'THE','LAZY', 'DOG']\n",
    "words = ['The', 'quick', 'brown', 'fox', 'jumps', 'over', 'the', 'lazy', 'dog']\n",
    "to_upper_case_words = [word.upper() for word in words]\n",
    "print(to_upper_case_words)"
   ]
  },
  {
   "cell_type": "code",
   "execution_count": 53,
   "id": "0d5193c3",
   "metadata": {},
   "outputs": [
    {
     "name": "stdout",
     "output_type": "stream",
     "text": [
      "['the', 'quick', 'brown', 'fox', 'jumps', 'over', 'the', 'lazy', 'dog']\n"
     ]
    }
   ],
   "source": [
    "# b) ['the', 'quick', 'brown', 'fox', 'jumps', 'over', 'the','lazy', 'dog']\n",
    "words= ['The', 'quick', 'brown', 'fox', 'jumps', 'over', 'the', 'lazy', 'dog']\n",
    "to_lower_case_words = [word.lower() for word in words]\n",
    "print(to_lower_case_words)"
   ]
  },
  {
   "cell_type": "code",
   "execution_count": 55,
   "id": "d7c41496",
   "metadata": {},
   "outputs": [
    {
     "name": "stdout",
     "output_type": "stream",
     "text": [
      "[3, 5, 5, 3, 5, 4, 3, 4, 3]\n"
     ]
    }
   ],
   "source": [
    "# c) [3, 5, 5, 3, 5, 4, 3, 4, 3] (the list of lengths of words in listwords)\n",
    "words = ['The', 'quick', 'brown', 'fox', 'jumps', 'over', 'the', 'lazy', 'dog']\n",
    "length_of_words = [len(word) for word in words]\n",
    "print(length_of_words)"
   ]
  },
  {
   "cell_type": "code",
   "execution_count": 56,
   "id": "ec99c91a",
   "metadata": {},
   "outputs": [
    {
     "name": "stdout",
     "output_type": "stream",
     "text": [
      "[['THE', 'the', 3], ['QUICK', 'quick', 5], ['BROWN', 'brown', 5], ['FOX', 'fox', 3], ['JUMPS', 'jumps', 5], ['OVER', 'over', 4], ['THE', 'the', 3], ['LAZY', 'lazy', 4], ['DOG', 'dog', 3]]\n"
     ]
    }
   ],
   "source": [
    "# d) [['THE', 'the', 3], ['QUICK', 'quick', 5], ['BROWN','brown', 5], ['FOX', 'fox', 3], ['JUMPS', 'jumps', 5],['OVER', 'over', 4], ['THE', 'the', 3], ['LAZY', 'lazy',4], ['DOG', 'dog', 3]] (the list containing a list for every word of listwords, where each list contains the word in uppercase and lowercase and thelength of the word.)\n",
    "\n",
    "words =['The', 'quick', 'brown', 'fox', 'jumps', 'over', 'the', 'lazy', 'dog']\n",
    "combo_words = [[word.upper(),word.lower(), len(word)] for word in words]\n",
    "print(combo_words)"
   ]
  },
  {
   "cell_type": "code",
   "execution_count": 57,
   "id": "b2493efc",
   "metadata": {},
   "outputs": [
    {
     "name": "stdout",
     "output_type": "stream",
     "text": [
      "['quick', 'brown', 'jumps', 'over', 'lazy']\n"
     ]
    }
   ],
   "source": [
    "# ['The', 'quick', 'brown', 'fox', 'jumps', 'over', 'the','lazy', 'dog'] (the list of words in list words containing 4 or morecharacters.)\n",
    "lengthy_words = [word for word in words if len(word)>3]\n",
    "print(lengthy_words)"
   ]
  },
  {
   "cell_type": "code",
   "execution_count": null,
   "id": "ee1a6869",
   "metadata": {},
   "outputs": [],
   "source": []
  }
 ],
 "metadata": {
  "kernelspec": {
   "display_name": "Python 3 (ipykernel)",
   "language": "python",
   "name": "python3"
  },
  "language_info": {
   "codemirror_mode": {
    "name": "ipython",
    "version": 3
   },
   "file_extension": ".py",
   "mimetype": "text/x-python",
   "name": "python",
   "nbconvert_exporter": "python",
   "pygments_lexer": "ipython3",
   "version": "3.11.4"
  }
 },
 "nbformat": 4,
 "nbformat_minor": 5
}
